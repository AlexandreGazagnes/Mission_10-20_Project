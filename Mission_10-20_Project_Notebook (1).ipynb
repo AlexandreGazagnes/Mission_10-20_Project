{
 "cells": [
  {
   "cell_type": "markdown",
   "id": "68c4bc86",
   "metadata": {},
   "source": [
    "We are going to look at an example of text classification model using a dataset providing tweets and their sentiment about Covid-19.\n",
    "\n",
    "Here is the URL to the dataset: https://www.kaggle.com/datasets/datatattle/covid-19-nlp-text-classification/code"
   ]
  },
  {
   "cell_type": "code",
   "execution_count": 20,
   "id": "40dc77c7",
   "metadata": {},
   "outputs": [],
   "source": [
    "# Import necessary libraries\n",
    "import pandas as pd\n",
    "import spacy"
   ]
  },
  {
   "cell_type": "code",
   "execution_count": 21,
   "id": "7c385b29",
   "metadata": {
    "scrolled": true
   },
   "outputs": [],
   "source": [
    "# The dataset is already split in a train and test set\n",
    "\n",
    "train = pd.read_csv('./Corona_NLP_train.csv', encoding='latin-1')\n",
    "test = pd.read_csv('./Corona_NLP_test.csv', encoding='latin-1')"
   ]
  },
  {
   "cell_type": "code",
   "execution_count": 22,
   "id": "1a8dc3ae",
   "metadata": {},
   "outputs": [
    {
     "data": {
      "text/html": [
       "<div>\n",
       "<style scoped>\n",
       "    .dataframe tbody tr th:only-of-type {\n",
       "        vertical-align: middle;\n",
       "    }\n",
       "\n",
       "    .dataframe tbody tr th {\n",
       "        vertical-align: top;\n",
       "    }\n",
       "\n",
       "    .dataframe thead th {\n",
       "        text-align: right;\n",
       "    }\n",
       "</style>\n",
       "<table border=\"1\" class=\"dataframe\">\n",
       "  <thead>\n",
       "    <tr style=\"text-align: right;\">\n",
       "      <th></th>\n",
       "      <th>UserName</th>\n",
       "      <th>ScreenName</th>\n",
       "      <th>Location</th>\n",
       "      <th>TweetAt</th>\n",
       "      <th>OriginalTweet</th>\n",
       "      <th>Sentiment</th>\n",
       "    </tr>\n",
       "  </thead>\n",
       "  <tbody>\n",
       "    <tr>\n",
       "      <th>0</th>\n",
       "      <td>3799</td>\n",
       "      <td>48751</td>\n",
       "      <td>London</td>\n",
       "      <td>16-03-2020</td>\n",
       "      <td>@MeNyrbie @Phil_Gahan @Chrisitv https://t.co/i...</td>\n",
       "      <td>Neutral</td>\n",
       "    </tr>\n",
       "    <tr>\n",
       "      <th>1</th>\n",
       "      <td>3800</td>\n",
       "      <td>48752</td>\n",
       "      <td>UK</td>\n",
       "      <td>16-03-2020</td>\n",
       "      <td>advice Talk to your neighbours family to excha...</td>\n",
       "      <td>Positive</td>\n",
       "    </tr>\n",
       "    <tr>\n",
       "      <th>2</th>\n",
       "      <td>3801</td>\n",
       "      <td>48753</td>\n",
       "      <td>Vagabonds</td>\n",
       "      <td>16-03-2020</td>\n",
       "      <td>Coronavirus Australia: Woolworths to give elde...</td>\n",
       "      <td>Positive</td>\n",
       "    </tr>\n",
       "    <tr>\n",
       "      <th>3</th>\n",
       "      <td>3802</td>\n",
       "      <td>48754</td>\n",
       "      <td>NaN</td>\n",
       "      <td>16-03-2020</td>\n",
       "      <td>My food stock is not the only one which is emp...</td>\n",
       "      <td>Positive</td>\n",
       "    </tr>\n",
       "    <tr>\n",
       "      <th>4</th>\n",
       "      <td>3803</td>\n",
       "      <td>48755</td>\n",
       "      <td>NaN</td>\n",
       "      <td>16-03-2020</td>\n",
       "      <td>Me, ready to go at supermarket during the #COV...</td>\n",
       "      <td>Extremely Negative</td>\n",
       "    </tr>\n",
       "  </tbody>\n",
       "</table>\n",
       "</div>"
      ],
      "text/plain": [
       "   UserName  ScreenName   Location     TweetAt  \\\n",
       "0      3799       48751     London  16-03-2020   \n",
       "1      3800       48752         UK  16-03-2020   \n",
       "2      3801       48753  Vagabonds  16-03-2020   \n",
       "3      3802       48754        NaN  16-03-2020   \n",
       "4      3803       48755        NaN  16-03-2020   \n",
       "\n",
       "                                       OriginalTweet           Sentiment  \n",
       "0  @MeNyrbie @Phil_Gahan @Chrisitv https://t.co/i...             Neutral  \n",
       "1  advice Talk to your neighbours family to excha...            Positive  \n",
       "2  Coronavirus Australia: Woolworths to give elde...            Positive  \n",
       "3  My food stock is not the only one which is emp...            Positive  \n",
       "4  Me, ready to go at supermarket during the #COV...  Extremely Negative  "
      ]
     },
     "execution_count": 22,
     "metadata": {},
     "output_type": "execute_result"
    }
   ],
   "source": [
    "train.head()"
   ]
  },
  {
   "cell_type": "markdown",
   "id": "fae38760",
   "metadata": {},
   "source": [
    "The Usernames and Screennames have been replaced by numbers to keep their anonimity"
   ]
  },
  {
   "cell_type": "code",
   "execution_count": 23,
   "id": "deaa3bc0",
   "metadata": {},
   "outputs": [
    {
     "data": {
      "text/plain": [
       "(41157, 6)"
      ]
     },
     "execution_count": 23,
     "metadata": {},
     "output_type": "execute_result"
    }
   ],
   "source": [
    "train.shape"
   ]
  },
  {
   "cell_type": "code",
   "execution_count": 24,
   "id": "987a2995",
   "metadata": {},
   "outputs": [
    {
     "data": {
      "text/plain": [
       "<bound method DataFrame.info of        UserName  ScreenName                      Location     TweetAt  \\\n",
       "0          3799       48751                        London  16-03-2020   \n",
       "1          3800       48752                            UK  16-03-2020   \n",
       "2          3801       48753                     Vagabonds  16-03-2020   \n",
       "3          3802       48754                           NaN  16-03-2020   \n",
       "4          3803       48755                           NaN  16-03-2020   \n",
       "...         ...         ...                           ...         ...   \n",
       "41152     44951       89903  Wellington City, New Zealand  14-04-2020   \n",
       "41153     44952       89904                           NaN  14-04-2020   \n",
       "41154     44953       89905                           NaN  14-04-2020   \n",
       "41155     44954       89906                           NaN  14-04-2020   \n",
       "41156     44955       89907  i love you so much || he/him  14-04-2020   \n",
       "\n",
       "                                           OriginalTweet           Sentiment  \n",
       "0      @MeNyrbie @Phil_Gahan @Chrisitv https://t.co/i...             Neutral  \n",
       "1      advice Talk to your neighbours family to excha...            Positive  \n",
       "2      Coronavirus Australia: Woolworths to give elde...            Positive  \n",
       "3      My food stock is not the only one which is emp...            Positive  \n",
       "4      Me, ready to go at supermarket during the #COV...  Extremely Negative  \n",
       "...                                                  ...                 ...  \n",
       "41152  Airline pilots offering to stock supermarket s...             Neutral  \n",
       "41153  Response to complaint not provided citing COVI...  Extremely Negative  \n",
       "41154  You know itÂs getting tough when @KameronWild...            Positive  \n",
       "41155  Is it wrong that the smell of hand sanitizer i...             Neutral  \n",
       "41156  @TartiiCat Well new/used Rift S are going for ...            Negative  \n",
       "\n",
       "[41157 rows x 6 columns]>"
      ]
     },
     "execution_count": 24,
     "metadata": {},
     "output_type": "execute_result"
    }
   ],
   "source": [
    "train.info"
   ]
  },
  {
   "cell_type": "code",
   "execution_count": 25,
   "id": "b4fe8c8c",
   "metadata": {},
   "outputs": [],
   "source": [
    "# Create an empty model\n",
    "nlp = spacy.blank(\"en\")\n",
    "\n",
    "# Add the TextCategorizer to the empty model\n",
    "textcat = nlp.add_pipe(\"textcat\")"
   ]
  },
  {
   "cell_type": "code",
   "execution_count": 26,
   "id": "a7c2ba67",
   "metadata": {},
   "outputs": [
    {
     "name": "stdout",
     "output_type": "stream",
     "text": [
      "Neutral\n",
      "Positive\n",
      "Extremely Negative\n",
      "Negative\n",
      "Extremely Positive\n"
     ]
    }
   ],
   "source": [
    "# Find out which values are in sentiments\n",
    "sentiments = train['Sentiment']\n",
    "sentiments = sentiments.drop_duplicates()\n",
    "for value in sentiments:\n",
    "    print(value)"
   ]
  },
  {
   "cell_type": "code",
   "execution_count": 27,
   "id": "42a4eef7",
   "metadata": {},
   "outputs": [
    {
     "data": {
      "text/plain": [
       "1"
      ]
     },
     "execution_count": 27,
     "metadata": {},
     "output_type": "execute_result"
    }
   ],
   "source": [
    "# Add labels to text classifier\n",
    "textcat.add_label(\"Neutral\")\n",
    "textcat.add_label(\"Positive\")\n",
    "textcat.add_label(\"Extremely Negative\")\n",
    "textcat.add_label(\"Negative\")\n",
    "textcat.add_label(\"Extremely Positive\")"
   ]
  },
  {
   "cell_type": "code",
   "execution_count": 28,
   "id": "de10b309",
   "metadata": {},
   "outputs": [],
   "source": [
    "train_texts = train['OriginalTweet'].values\n",
    "train_labels = [{'cats': {'Neutral': Sentiment == 'Neutral',\n",
    "                          'Positive': Sentiment == 'Positive',\n",
    "                          'Extremely Negative': Sentiment == 'Extremely Negative',\n",
    "                          'Negative': Sentiment == 'Negative',\n",
    "                          'Extremely Positive': Sentiment == 'Extremely Positive'}} \n",
    "                for Sentiment in train['Sentiment']]"
   ]
  },
  {
   "cell_type": "code",
   "execution_count": 29,
   "id": "3baec811",
   "metadata": {},
   "outputs": [
    {
     "data": {
      "text/plain": [
       "[('@MeNyrbie @Phil_Gahan @Chrisitv https://t.co/iFz9FAn2Pa and https://t.co/xX6ghGFzCC and https://t.co/I2NlzdxNo8',\n",
       "  {'cats': {'Neutral': True,\n",
       "    'Positive': False,\n",
       "    'Extremely Negative': False,\n",
       "    'Negative': False,\n",
       "    'Extremely Positive': False}}),\n",
       " ('advice Talk to your neighbours family to exchange phone numbers create contact list with phone numbers of neighbours schools employer chemist GP set up online shopping accounts if poss adequate supplies of regular meds but not over order',\n",
       "  {'cats': {'Neutral': False,\n",
       "    'Positive': True,\n",
       "    'Extremely Negative': False,\n",
       "    'Negative': False,\n",
       "    'Extremely Positive': False}}),\n",
       " ('Coronavirus Australia: Woolworths to give elderly, disabled dedicated shopping hours amid COVID-19 outbreak https://t.co/bInCA9Vp8P',\n",
       "  {'cats': {'Neutral': False,\n",
       "    'Positive': True,\n",
       "    'Extremely Negative': False,\n",
       "    'Negative': False,\n",
       "    'Extremely Positive': False}})]"
      ]
     },
     "execution_count": 29,
     "metadata": {},
     "output_type": "execute_result"
    }
   ],
   "source": [
    "train_data = list(zip(train_texts, train_labels))\n",
    "train_data[:3]"
   ]
  },
  {
   "cell_type": "code",
   "execution_count": 31,
   "id": "2873d641",
   "metadata": {},
   "outputs": [
    {
     "name": "stdout",
     "output_type": "stream",
     "text": [
      "{'textcat': 5454.42810615442}\n",
      "{'textcat': 10351.818137345455}\n",
      "{'textcat': 14990.507116890312}\n"
     ]
    }
   ],
   "source": [
    "import random\n",
    "from spacy.util import minibatch\n",
    "from spacy.training.example import Example\n",
    "\n",
    "random.seed(1)\n",
    "spacy.util.fix_random_seed(1)\n",
    "optimizer = nlp.begin_training()\n",
    "\n",
    "losses = {}\n",
    "for epoch in range(3):\n",
    "    random.shuffle(train_data)\n",
    "    # Create the batch generator with batch size = 30000\n",
    "    batches = minibatch(train_data, size=100)\n",
    "    # Iterate through minibatches\n",
    "    for batch in batches:\n",
    "        for OriginalTweet, Sentiment in batch:\n",
    "            doc = nlp.make_doc(OriginalTweet)\n",
    "            example = Example.from_dict(doc, Sentiment)\n",
    "            nlp.update([example], sgd=optimizer, losses=losses)\n",
    "    print(losses)"
   ]
  },
  {
   "cell_type": "code",
   "execution_count": 35,
   "id": "cf651716",
   "metadata": {},
   "outputs": [
    {
     "name": "stdout",
     "output_type": "stream",
     "text": [
      "['Negative', 'Extremely Positive', 'Neutral']\n"
     ]
    }
   ],
   "source": [
    "texts = [\"I am very scared of dying of Covid-19\",\n",
    "         \"I love staying at home and watching Netflix all day\",\n",
    "         \"Today I saw a balloon\"]\n",
    "docs = [nlp.tokenizer(text) for text in texts]\n",
    "    \n",
    "# Use textcat to get the scores for each doc\n",
    "textcat = nlp.get_pipe('textcat')\n",
    "scores = textcat.predict(docs)\n",
    "\n",
    "predicted_labels = scores.argmax(axis=1)\n",
    "print([textcat.labels[label] for label in predicted_labels])"
   ]
  },
  {
   "cell_type": "code",
   "execution_count": 49,
   "id": "d283b3e1",
   "metadata": {},
   "outputs": [],
   "source": [
    "test_texts = test[\"OriginalTweet\"]\n",
    "docs_test = [nlp.tokenizer(test_text) for test_text in test_texts]\n",
    "\n",
    "scores_test = textcat.predict(docs_test)\n",
    "predicted_labels_test = scores_test.argmax(axis=1)\n",
    "#print([textcat.labels[label_new] for label_new in predicted_labels_test])"
   ]
  },
  {
   "cell_type": "code",
   "execution_count": 65,
   "id": "678aa08b-195e-4e42-afb1-b720ea1f4091",
   "metadata": {},
   "outputs": [
    {
     "name": "stdout",
     "output_type": "stream",
     "text": [
      "(3798,)\n",
      "(3798,)\n"
     ]
    }
   ],
   "source": [
    "print(predicted_labels_test.shape)\n",
    "print(actual_labels_test.shape)"
   ]
  },
  {
   "cell_type": "code",
   "execution_count": 90,
   "id": "92c7806f-81d7-4d69-b2b3-3aace548753d",
   "metadata": {},
   "outputs": [],
   "source": [
    "actual_labels_test = test[\"Sentiment\"].values\n",
    "actual_labels_test = actual_labels_test.tolist()"
   ]
  },
  {
   "cell_type": "code",
   "execution_count": 99,
   "id": "85fc3286-00d1-4646-bc13-5d08fa58d0fb",
   "metadata": {},
   "outputs": [
    {
     "name": "stdout",
     "output_type": "stream",
     "text": [
      "2292\n"
     ]
    }
   ],
   "source": [
    "predicted_labels = [textcat.labels[label_new] for label_new in predicted_labels_test]\n",
    "true_prediction = 0\n",
    "for x in range(0,3798):\n",
    "    if [predicted_labels[x]] == [actual_labels_test[x]]:\n",
    "        true_prediction += 1\n",
    "        \n",
    "print(true_prediction)       \n",
    "#print([textcat.labels[label_new] for label_new in predicted_labels_test])"
   ]
  },
  {
   "cell_type": "code",
   "execution_count": 100,
   "id": "87d96b6a-d05e-4083-b93a-68a86c0138cf",
   "metadata": {},
   "outputs": [
    {
     "name": "stdout",
     "output_type": "stream",
     "text": [
      "0.5761689291101055\n"
     ]
    }
   ],
   "source": [
    "Accuracy = true_prediction/3978\n",
    "print(Accuracy)"
   ]
  },
  {
   "cell_type": "code",
   "execution_count": null,
   "id": "3cd9ead7-93f7-4bd8-ac85-1476c065e26d",
   "metadata": {},
   "outputs": [],
   "source": []
  }
 ],
 "metadata": {
  "kernelspec": {
   "display_name": "Python 3 (ipykernel)",
   "language": "python",
   "name": "python3"
  },
  "language_info": {
   "codemirror_mode": {
    "name": "ipython",
    "version": 3
   },
   "file_extension": ".py",
   "mimetype": "text/x-python",
   "name": "python",
   "nbconvert_exporter": "python",
   "pygments_lexer": "ipython3",
   "version": "3.10.12"
  }
 },
 "nbformat": 4,
 "nbformat_minor": 5
}
